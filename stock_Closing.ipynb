{
  "nbformat": 4,
  "nbformat_minor": 0,
  "metadata": {
    "colab": {
      "provenance": [],
      "authorship_tag": "ABX9TyOtjpaMgsmE5krPSAmIBvyu",
      "include_colab_link": true
    },
    "kernelspec": {
      "name": "python3",
      "display_name": "Python 3"
    },
    "language_info": {
      "name": "python"
    }
  },
  "cells": [
    {
      "cell_type": "markdown",
      "metadata": {
        "id": "view-in-github",
        "colab_type": "text"
      },
      "source": [
        "<a href=\"https://colab.research.google.com/github/Alupng/StockAnalysis/blob/main/stock_Closing.ipynb\" target=\"_parent\"><img src=\"https://colab.research.google.com/assets/colab-badge.svg\" alt=\"Open In Colab\"/></a>"
      ]
    },
    {
      "cell_type": "code",
      "execution_count": null,
      "metadata": {
        "id": "qGFtHAjeQQQU"
      },
      "outputs": [],
      "source": [
        "import yfinance as yf\n",
        "import pandas as pd\n",
        "import matplotlib.pyplot as plt\n",
        "ticker = 'AAPL'\n",
        "data = yf.download(ticker, period='30d')\n",
        "if isinstance(data.columns, pd.MultiIndex):\n",
        "    close_prices = data['Close'][ticker].dropna()\n",
        "else:\n",
        "    close_prices = data['Close'].dropna()\n",
        "if not close_prices.empty:\n",
        "    print(f\"\\nStock: {ticker}\")\n",
        "    print(f\"Minimum Close Price: {float(close_prices.min()):.2f}\")\n",
        "    print(f\"Maximum Close Price: {float(close_prices.max()):.2f}\")\n",
        "    print(f\"Average Close Price: {float(close_prices.mean()):.2f}\")\n",
        "    plt.figure(figsize=(10, 5))\n",
        "    plt.plot(close_prices.index, close_prices, label='Close Price', color='blue')\n",
        "    plt.title(f'{ticker} Stock Closing Prices - Last 30 Days')\n",
        "    plt.xlabel('Date')\n",
        "    plt.ylabel('Price ($)')\n",
        "    plt.grid(True)\n",
        "    plt.legend()\n",
        "    plt.tight_layout()\n",
        "    plt.show()\n",
        "else:\n",
        "    print(\"No closing price data available.\")\n"
      ]
    }
  ]
}